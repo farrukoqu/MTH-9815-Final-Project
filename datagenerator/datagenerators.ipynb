{
 "cells": [
  {
   "cell_type": "code",
   "execution_count": 1,
   "id": "211d3d21",
   "metadata": {},
   "outputs": [],
   "source": [
    "import random"
   ]
  },
  {
   "cell_type": "code",
   "execution_count": 2,
   "id": "dfee6ad4",
   "metadata": {},
   "outputs": [],
   "source": [
    "# ticker names\n",
    "tickers = [\"B02y\", \"B03y\", \"B05y\", \"B07y\", \"B10y\", \"B20y\", \"B30y\"]"
   ]
  },
  {
   "cell_type": "code",
   "execution_count": 3,
   "id": "a31e00de",
   "metadata": {},
   "outputs": [],
   "source": [
    "# generate prices.txt file\n",
    "def price_generator():\n",
    "    \n",
    "    # function to generate market price\n",
    "    def random_price():\n",
    "        \n",
    "        # generate random prices by constructing random integers, decimals and a spread random integer\n",
    "        integer = random.randint(99,100)\n",
    "        decimal_32 = random.randint(10,31)\n",
    "        decimal_8 = random.randint(0,3)\n",
    "        spread_random = random.randint(1, 2)\n",
    "        \n",
    "        # generate a bid and ask price\n",
    "        bid_string = str(integer) + '-' + str(decimal_32) + str(decimal_8)\n",
    "        if spread_random % 2 != 0:\n",
    "            ask_string = str(integer) + \"-\" + str(decimal_32) + str(decimal_8+4)\n",
    "        else:\n",
    "            ask_string = str(integer_) + \"-\" + str(decimal_32) + str(decimal_8+2)\n",
    "        \n",
    "        return bid_string, ask_string\n",
    "    \n",
    "    print(\"prices.txt upcoming\")\n",
    "    f=open(\"data_generators/prices.txt\",\"w\")\n",
    "\n",
    "    # loop through and generate the prices to the file\n",
    "    for i in range(1000000):\n",
    "        if i % 100000 == 0:\n",
    "            print(\"%d prices generated\" %i)\n",
    "        for ticker in tickers:\n",
    "            bid,ask = random_price()\n",
    "            s_to_file = ticker + ',' + bid + ',' + ask + '\\n'\n",
    "            f.write(s_to_file)\n",
    "    f.close()\n",
    "    print(\"prices.txt completed\")"
   ]
  },
  {
   "cell_type": "code",
   "execution_count": 4,
   "id": "1c93db02",
   "metadata": {},
   "outputs": [],
   "source": [
    "# generate trades.txt file\n",
    "def trade_generator():\n",
    "    print(\"trades.txt upcoming\")\n",
    "    # create the file, books, positions and its trade id\n",
    "    f = open(\"data_generators/trades.txt\",'w')\n",
    "    books = [\"TRSY1\", \"TRSY2\", \"TRSY3\"]\n",
    "    side = [\"BUY\", \"SELL\"]\n",
    "    trade_id = 0\n",
    "\n",
    "    # create the trades and write them to the file\n",
    "    for ticker in tickers:\n",
    "        for i in range(10):\n",
    "            trade_id += 1\n",
    "            trade_str = \"TradeId\" + str(trade_id)\n",
    "            s_to_file = ticker + ',' + trade_str + ',' + books[i % 3] + ',' + str(random.randint(1,5)) + '000000' + ',' + '99.0' + ',' + side[i % 2] + '\\n'\n",
    "            f.write(s_to_file)\n",
    "    f.close()\n",
    "    print(\"trades.txt completed\")"
   ]
  },
  {
   "cell_type": "code",
   "execution_count": 5,
   "id": "5e68fc9e",
   "metadata": {},
   "outputs": [],
   "source": [
    "# generate market data\n",
    "def market_data_generator():\n",
    "    print(\"marketdata.txt upcoming\")\n",
    "    f = open(\"data_generators/marketdata.txt\",'w')\n",
    "    number_orderbooks = 1000000\n",
    "    cnt = -1\n",
    "    spread = [2, 4, 6, 8, 6, 4]\n",
    "    \n",
    "    # loop through the orderbooks and generate the bid and ask prices.\n",
    "    for i in range(number_orderbooks):\n",
    "        if i % 100000 == 0:\n",
    "            print(\"%d orderbooks generated\" %i)\n",
    "        for ticker in tickers:\n",
    "            cnt += 1\n",
    "            s_to_file = ticker\n",
    "            integer_part = random.randint(99,100)\n",
    "            decimal_32 = random.randint(12,29)\n",
    "            decimal_8 = random.randint(4,7)\n",
    "            half_spread = spread[cnt % 6] / 2\n",
    "            bid_decimal_8 = decimal_8 - half_spread\n",
    "            bid_decimal_32 = decimal_32\n",
    "            ask_decimal_8 = decimal_8 + half_spread\n",
    "            ask_decimal_32 = decimal_32\n",
    "            for k in range(5):\n",
    "                ask_decimal_8 += 1\n",
    "                bid_decimal_8 -= 1\n",
    "                if ask_decimal_8 >= 8:\n",
    "                    ask_decimal_8 = ask_decimal_8 - 8\n",
    "                    ask_decimal_32 += 1\n",
    "                if bid_decimal_8 < 0:\n",
    "                    bid_decimal_8 += 8\n",
    "                    bid_decimal_32 -= 1\n",
    "                bid = str(integer_part) + '-' + str(bid_decimal_32) + str(int(bid_decimal_8))\n",
    "                ask = str(integer_part) + '-' + str(ask_decimal_32) + str(int(ask_decimal_8))\n",
    "                s_to_file += ',' + bid + ',' + ask\n",
    "            f.write(s_to_file + '\\n')\n",
    "            \n",
    "    f.close()\n",
    "    print(\"marketdata.txt finished\")"
   ]
  },
  {
   "cell_type": "code",
   "execution_count": 6,
   "id": "0ba6ca38",
   "metadata": {},
   "outputs": [],
   "source": [
    "# generate the inquiries\n",
    "def inquiries_generator():\n",
    "    directions = [\"BUY\", \"SELL\"]\n",
    "    f = open(\"data_generators/inquiries.txt\",\"w\")\n",
    "    cnt = 0\n",
    "    for i in range(10):\n",
    "        for ticker in tickers:\n",
    "            cnt += 1\n",
    "            f.write(\",\".join([str(cnt), ticker, directions[cnt % 2], \"RECEIVED\\n\"]))\n",
    "    f.close()\n",
    "    print(\"finished generating inquires.txt\")"
   ]
  },
  {
   "cell_type": "code",
   "execution_count": 7,
   "id": "a0996989",
   "metadata": {},
   "outputs": [
    {
     "name": "stdout",
     "output_type": "stream",
     "text": [
      "generating prices.txt\n",
      "0 prices generated\n",
      "100000 prices generated\n",
      "200000 prices generated\n",
      "300000 prices generated\n",
      "400000 prices generated\n",
      "500000 prices generated\n",
      "600000 prices generated\n",
      "700000 prices generated\n",
      "800000 prices generated\n",
      "900000 prices generated\n",
      "finished generating prices.txt\n",
      "generating trades.txt\n",
      "finished generating trades.txt\n",
      "generating marketdata.txt\n",
      "0 orderbooks generated\n",
      "100000 orderbooks generated\n",
      "200000 orderbooks generated\n",
      "300000 orderbooks generated\n",
      "400000 orderbooks generated\n",
      "500000 orderbooks generated\n",
      "600000 orderbooks generated\n",
      "700000 orderbooks generated\n",
      "800000 orderbooks generated\n",
      "900000 orderbooks generated\n",
      "finished generating marketdata.txt\n",
      "finished generating inquires.txt\n"
     ]
    }
   ],
   "source": [
    "#generate prices, trades, market_data and inquiries\n",
    "price_generator()\n",
    "trade_generator()\n",
    "market_data_generator()\n",
    "inquiries_generator()"
   ]
  }
 ],
 "metadata": {
  "kernelspec": {
   "display_name": "Python 3 (ipykernel)",
   "language": "python",
   "name": "python3"
  },
  "language_info": {
   "codemirror_mode": {
    "name": "ipython",
    "version": 3
   },
   "file_extension": ".py",
   "mimetype": "text/x-python",
   "name": "python",
   "nbconvert_exporter": "python",
   "pygments_lexer": "ipython3",
   "version": "3.9.12"
  }
 },
 "nbformat": 4,
 "nbformat_minor": 5
}
